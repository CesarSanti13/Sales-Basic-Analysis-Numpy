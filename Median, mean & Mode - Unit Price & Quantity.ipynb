{
 "cells": [
  {
   "cell_type": "code",
   "execution_count": 45,
   "id": "c9ab15e1-a4dc-4fa4-b363-e501a0edd04d",
   "metadata": {},
   "outputs": [
    {
     "name": "stdout",
     "output_type": "stream",
     "text": [
      "Quantity Mean: 5.51 / Median: 5.00 / Mode: 10.00\n",
      "Unit Price Mean: 55.67 / Median: 55.23 / Mode: 83.77\n"
     ]
    }
   ],
   "source": [
    "import numpy as np\n",
    "import pandas as pd\n",
    "\n",
    "#First using pandas we load the CSV file\n",
    "df = pd.read_csv('supermarket_sales.csv')\n",
    "\n",
    "#Sacamos la media, mediana y moda usando pandas para poder visualizarla posteriormente que se haga con Numpy correctamente\n",
    "dfMean = df[['Quantity','Unit price']].mean()\n",
    "dfMedian = df[['Quantity','Unit price']].median()\n",
    "dfMode = df[['Quantity','Unit price']].mode()\n",
    "\n",
    "#Obtenemos en un nuevo Array, los valores de cantidad y precio por unidad convertidos con numpy\n",
    "values = df[['Quantity','Unit price']].to_numpy()\n",
    "\n",
    "#Obtenemos la media, mediana y moda de Quantity\n",
    "npMeanQuantity  = np.mean(values[:, 0]) \n",
    "npMedianQuantity  = np.median(values[:, 0]) \n",
    "\n",
    "unValuesQuantity, counts = np.unique(values[:, 0], return_counts=True)\n",
    "npModeQuantity = unValuesQuantity[np.argmax(counts)]\n",
    "\n",
    "\n",
    "#Obtenemos la media, mediana y moda de Unit Price\n",
    "npMeanUnitPrice  = np.mean(values[:, 1]) \n",
    "npMedianUnitPrice  = np.median(values[:, 1]) \n",
    "\n",
    "unValuesPriceUnit, counts = np.unique(values[:, 1], return_counts=True)\n",
    "npModeUnitPrice = unValuesPriceUnit[np.argmax(counts)]\n",
    "\n",
    "#Imprimimos todos los valores de Media, Mediana y Moda\n",
    "print(f\"Quantity Mean: {npMeanQuantity:.2f} / Median: {npMedianQuantity:.2f} / Mode: {npModeQuantity:.2f}\")\n",
    "print(f\"Unit Price Mean: {npMeanUnitPrice:.2f} / Median: {npMedianUnitPrice:.2f} / Mode: {npModeUnitPrice:.2f}\")"
   ]
  },
  {
   "cell_type": "code",
   "execution_count": 46,
   "id": "82dd05e5-573d-45ea-b1b5-eca774b1ac52",
   "metadata": {},
   "outputs": [
    {
     "data": {
      "text/plain": [
       "Quantity       5.51000\n",
       "Unit price    55.67213\n",
       "dtype: float64"
      ]
     },
     "execution_count": 46,
     "metadata": {},
     "output_type": "execute_result"
    }
   ],
   "source": [
    "dfMean"
   ]
  },
  {
   "cell_type": "code",
   "execution_count": 47,
   "id": "065a1cea-ee9d-4c20-b1e6-5142c7f605e8",
   "metadata": {},
   "outputs": [
    {
     "data": {
      "text/plain": [
       "Quantity       5.00\n",
       "Unit price    55.23\n",
       "dtype: float64"
      ]
     },
     "execution_count": 47,
     "metadata": {},
     "output_type": "execute_result"
    }
   ],
   "source": [
    "dfMedian"
   ]
  },
  {
   "cell_type": "code",
   "execution_count": 48,
   "id": "7b667d70-7562-4a64-a77e-440466038f4f",
   "metadata": {},
   "outputs": [
    {
     "data": {
      "text/html": [
       "<div>\n",
       "<style scoped>\n",
       "    .dataframe tbody tr th:only-of-type {\n",
       "        vertical-align: middle;\n",
       "    }\n",
       "\n",
       "    .dataframe tbody tr th {\n",
       "        vertical-align: top;\n",
       "    }\n",
       "\n",
       "    .dataframe thead th {\n",
       "        text-align: right;\n",
       "    }\n",
       "</style>\n",
       "<table border=\"1\" class=\"dataframe\">\n",
       "  <thead>\n",
       "    <tr style=\"text-align: right;\">\n",
       "      <th></th>\n",
       "      <th>Quantity</th>\n",
       "      <th>Unit price</th>\n",
       "    </tr>\n",
       "  </thead>\n",
       "  <tbody>\n",
       "    <tr>\n",
       "      <th>0</th>\n",
       "      <td>10</td>\n",
       "      <td>83.77</td>\n",
       "    </tr>\n",
       "  </tbody>\n",
       "</table>\n",
       "</div>"
      ],
      "text/plain": [
       "   Quantity  Unit price\n",
       "0        10       83.77"
      ]
     },
     "execution_count": 48,
     "metadata": {},
     "output_type": "execute_result"
    }
   ],
   "source": [
    "dfMode"
   ]
  }
 ],
 "metadata": {
  "kernelspec": {
   "display_name": "Python 3 (ipykernel)",
   "language": "python",
   "name": "python3"
  },
  "language_info": {
   "codemirror_mode": {
    "name": "ipython",
    "version": 3
   },
   "file_extension": ".py",
   "mimetype": "text/x-python",
   "name": "python",
   "nbconvert_exporter": "python",
   "pygments_lexer": "ipython3",
   "version": "3.9.5"
  }
 },
 "nbformat": 4,
 "nbformat_minor": 5
}
