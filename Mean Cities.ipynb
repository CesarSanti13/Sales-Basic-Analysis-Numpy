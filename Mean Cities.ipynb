{
 "cells": [
  {
   "cell_type": "code",
   "execution_count": 13,
   "id": "d8efae10-e85e-4757-9fa8-fb80c8dd5271",
   "metadata": {},
   "outputs": [
    {
     "name": "stdout",
     "output_type": "stream",
     "text": [
      "Mandalay: Total mean Ticket: 319.87\n",
      "Naypyitaw: Total mean Ticket: 337.10\n",
      "Yangon: Total mean Ticket: 312.35\n"
     ]
    }
   ],
   "source": [
    "import numpy as np\n",
    "import pandas as pd\n",
    "\n",
    "#First using pandas we load the CSV file\n",
    "df = pd.read_csv('supermarket_sales.csv')\n",
    "\n",
    "#We have to validate how much cities does the Dataframe has, this is for validate and see how much of them we have to write\n",
    "dfCityTotal = df.groupby('City')[['Total']].mean().round(2).reset_index()\n",
    "\n",
    "#After checked the cities the DF has, we just choose the values we will be taking action as saw it the Total\n",
    "data = df[['City','Total']].to_numpy()\n",
    "\n",
    "#We select the cities that the Array has choosing the unique ones just the uniques cities are in the Array.\n",
    "cities = np.unique(data[:,0])\n",
    "\n",
    "#Using a for cicle we iterate in the cities, going city by city that is in the new cities Array\n",
    "for city in cities:\n",
    "    \n",
    "    #Using a mark for checking each City with the Array position 0 of the cities, making a boolean por the position and extracting the position\n",
    "    position = data[:,0] == city\n",
    "    \n",
    "    #Extrating means of the unit price and the quantity\n",
    "    meanTotal = np.mean(data[position,1].astype(float))\n",
    "\n",
    "    #Using the cicle for print for each City means\n",
    "    print(f\"{city}: Total mean Ticket: {meanTotal:.2f}\")"
   ]
  },
  {
   "cell_type": "code",
   "execution_count": 12,
   "id": "8b97af69-5a6a-463a-8fb5-f85a5965e511",
   "metadata": {},
   "outputs": [
    {
     "data": {
      "text/html": [
       "<div>\n",
       "<style scoped>\n",
       "    .dataframe tbody tr th:only-of-type {\n",
       "        vertical-align: middle;\n",
       "    }\n",
       "\n",
       "    .dataframe tbody tr th {\n",
       "        vertical-align: top;\n",
       "    }\n",
       "\n",
       "    .dataframe thead th {\n",
       "        text-align: right;\n",
       "    }\n",
       "</style>\n",
       "<table border=\"1\" class=\"dataframe\">\n",
       "  <thead>\n",
       "    <tr style=\"text-align: right;\">\n",
       "      <th></th>\n",
       "      <th>City</th>\n",
       "      <th>Total</th>\n",
       "    </tr>\n",
       "  </thead>\n",
       "  <tbody>\n",
       "    <tr>\n",
       "      <th>0</th>\n",
       "      <td>Mandalay</td>\n",
       "      <td>319.872506</td>\n",
       "    </tr>\n",
       "    <tr>\n",
       "      <th>1</th>\n",
       "      <td>Naypyitaw</td>\n",
       "      <td>337.099715</td>\n",
       "    </tr>\n",
       "    <tr>\n",
       "      <th>2</th>\n",
       "      <td>Yangon</td>\n",
       "      <td>312.354031</td>\n",
       "    </tr>\n",
       "  </tbody>\n",
       "</table>\n",
       "</div>"
      ],
      "text/plain": [
       "        City       Total\n",
       "0   Mandalay  319.872506\n",
       "1  Naypyitaw  337.099715\n",
       "2     Yangon  312.354031"
      ]
     },
     "execution_count": 12,
     "metadata": {},
     "output_type": "execute_result"
    }
   ],
   "source": [
    "dfCityTotal"
   ]
  }
 ],
 "metadata": {
  "kernelspec": {
   "display_name": "Python 3 (ipykernel)",
   "language": "python",
   "name": "python3"
  },
  "language_info": {
   "codemirror_mode": {
    "name": "ipython",
    "version": 3
   },
   "file_extension": ".py",
   "mimetype": "text/x-python",
   "name": "python",
   "nbconvert_exporter": "python",
   "pygments_lexer": "ipython3",
   "version": "3.9.5"
  }
 },
 "nbformat": 4,
 "nbformat_minor": 5
}
