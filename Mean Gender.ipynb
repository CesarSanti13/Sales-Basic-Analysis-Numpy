{
 "cells": [
  {
   "cell_type": "code",
   "execution_count": 6,
   "id": "40eed8bb-0dac-4498-b236-56cc52591a2c",
   "metadata": {},
   "outputs": [
    {
     "name": "stdout",
     "output_type": "stream",
     "text": [
      "Female: Total Mean: 335.10\n",
      "Male: Total Mean: 310.79\n"
     ]
    }
   ],
   "source": [
    "import numpy as np\n",
    "import pandas as pd\n",
    "\n",
    "#First using pandas we load the CSV file\n",
    "df = pd.read_csv('supermarket_sales.csv')\n",
    "\n",
    "#We have to validate how much Genders does the Dataframe has, this is for validate and see how much of them we have to write\n",
    "dfGenderTotal = df.groupby('Gender')[['Total']].mean().reset_index()\n",
    "\n",
    "#After checked the Genders the DF has, we just choose the values we will be taking action as we talked Unit Price, Quantity and the City\n",
    "data = df[['Gender','Total']].to_numpy()\n",
    "\n",
    "#We select the Genders that the Array has choosing the unique ones just the uniques cities are in the Array.\n",
    "genders = np.unique(data[:,0])\n",
    "\n",
    "#Using a for cicle we iterate in the Genders, going Gender by Gender that is in the new Gender Array\n",
    "for gender in genders:\n",
    "    \n",
    "    #Using a mark for checking each gender with the Array position 0 of the genders, making a boolean por the position and extracting the position\n",
    "    position = data[:,0] == gender\n",
    "    \n",
    "    #Extrating means of the Total\n",
    "    meanGender = np.mean(data[position,1].astype(float))\n",
    "    \n",
    "    #Using the cicle for print for each Gender means\n",
    "    print(f\"{gender}: Total Mean: {meanGender:.2f}\")"
   ]
  },
  {
   "cell_type": "code",
   "execution_count": 4,
   "id": "d8efae10-e85e-4757-9fa8-fb80c8dd5271",
   "metadata": {},
   "outputs": [
    {
     "data": {
      "text/html": [
       "<div>\n",
       "<style scoped>\n",
       "    .dataframe tbody tr th:only-of-type {\n",
       "        vertical-align: middle;\n",
       "    }\n",
       "\n",
       "    .dataframe tbody tr th {\n",
       "        vertical-align: top;\n",
       "    }\n",
       "\n",
       "    .dataframe thead th {\n",
       "        text-align: right;\n",
       "    }\n",
       "</style>\n",
       "<table border=\"1\" class=\"dataframe\">\n",
       "  <thead>\n",
       "    <tr style=\"text-align: right;\">\n",
       "      <th></th>\n",
       "      <th>Gender</th>\n",
       "      <th>Total</th>\n",
       "    </tr>\n",
       "  </thead>\n",
       "  <tbody>\n",
       "    <tr>\n",
       "      <th>0</th>\n",
       "      <td>Female</td>\n",
       "      <td>335.095659</td>\n",
       "    </tr>\n",
       "    <tr>\n",
       "      <th>1</th>\n",
       "      <td>Male</td>\n",
       "      <td>310.789226</td>\n",
       "    </tr>\n",
       "  </tbody>\n",
       "</table>\n",
       "</div>"
      ],
      "text/plain": [
       "   Gender       Total\n",
       "0  Female  335.095659\n",
       "1    Male  310.789226"
      ]
     },
     "execution_count": 4,
     "metadata": {},
     "output_type": "execute_result"
    }
   ],
   "source": [
    "dfGenderTotal"
   ]
  }
 ],
 "metadata": {
  "kernelspec": {
   "display_name": "Python 3 (ipykernel)",
   "language": "python",
   "name": "python3"
  },
  "language_info": {
   "codemirror_mode": {
    "name": "ipython",
    "version": 3
   },
   "file_extension": ".py",
   "mimetype": "text/x-python",
   "name": "python",
   "nbconvert_exporter": "python",
   "pygments_lexer": "ipython3",
   "version": "3.9.5"
  }
 },
 "nbformat": 4,
 "nbformat_minor": 5
}
