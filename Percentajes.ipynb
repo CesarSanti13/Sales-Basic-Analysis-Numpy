{
 "cells": [
  {
   "cell_type": "code",
   "execution_count": 42,
   "id": "e466fc59-a570-414f-bbd5-5909540369c0",
   "metadata": {},
   "outputs": [],
   "source": [
    "import numpy as np\n",
    "import pandas as pd\n",
    "\n",
    "#First using pandas we load the CSV file\n",
    "df = pd.read_csv('supermarket_sales.csv')\n",
    "\n",
    "dfPayment = df.groupby('Payment')['Total'].sum().reset_index()\n",
    "dfGender = df.groupby('Gender')['Total'].sum().reset_index()\n",
    "dfProductLine = df.groupby('Product line')['Total'].sum().reset_index()\n",
    "dfCustomerType = df.groupby('Customer type')['Total'].sum().reset_index()"
   ]
  },
  {
   "cell_type": "code",
   "execution_count": 45,
   "id": "dd7398d3-34e7-4a38-a884-bb96eaece482",
   "metadata": {},
   "outputs": [
    {
     "name": "stdout",
     "output_type": "stream",
     "text": [
      "Cash - Total : 112206.57 - Percentaje : 34.74%\n",
      "Credit card - Total : 100767.07 - Percentaje : 31.20%\n",
      "Ewallet - Total : 109993.11 - Percentaje : 34.06%\n"
     ]
    }
   ],
   "source": [
    "def paymentClean(df):\n",
    "    \n",
    "    #Obtaining the payment and total for each one into Array from pandas\n",
    "    dataPayment = df[['Payment', 'Total']].to_numpy()\n",
    "\n",
    "    #We obtain the Grand total of all the Array\n",
    "    grandTotal = np.sum(dataPayment[:,1].astype(float))\n",
    "    \n",
    "    #We checked the unique payments that are in the Array, selection the 0 position because payment is stored in that position\n",
    "    payments = np.unique(dataPayment[:, 0])\n",
    "\n",
    "    for payment in payments:\n",
    "    \n",
    "        #Using a mask for checking each payment with the Array position 0 of the payments, making a boolean por the position and extracting the position\n",
    "        position = dataPayment[:,0] == payment\n",
    "\n",
    "        #Extrating the Total for each payment Method even getting the % of it owns about the Total\n",
    "        paymentTotal = np.sum(dataPayment[position,1].astype(float))\n",
    "        percentaje = (paymentTotal/grandTotal) * 100\n",
    "        \n",
    "        #Using the cicle for print data of each Payment\n",
    "        print(f\"{payment} - Total : {paymentTotal:.2f} - Percentaje : {percentaje:.2f}%\")\n",
    "paymentClean(df)"
   ]
  },
  {
   "cell_type": "code",
   "execution_count": 49,
   "id": "657ae0d3-e2bf-474e-9d13-5d71040c884b",
   "metadata": {},
   "outputs": [
    {
     "name": "stdout",
     "output_type": "stream",
     "text": [
      "Female - Total : 167882.92 - Percentaje : 51.98%\n",
      "Male - Total : 155083.82 - Percentaje : 48.02%\n"
     ]
    }
   ],
   "source": [
    "def genderClean(df):\n",
    "    \n",
    "    #Obtaning the gender and total for each one into Array from pandas\n",
    "    dataGender = df[['Gender', 'Total']].to_numpy()\n",
    "\n",
    "    #We obtain the Grand total of all the Array\n",
    "    grandTotal = np.sum(dataGender[:,1].astype(float))\n",
    "    \n",
    "    #We checked the unique genders that are in the Array, selection the 0 position because gender is stored in that position\n",
    "    genders = np.unique(dataGender[:, 0])\n",
    "\n",
    "    for gender in genders:\n",
    "    \n",
    "        #Using a mask for checking each gender with the Array position 0 of the genders, making a boolean por the position and extracting the position\n",
    "        position = dataGender[:,0] == gender\n",
    "    \n",
    "        #Extrating the Total for each Gender even getting the % of it owns about the Total\n",
    "        genderTotal = np.sum(dataGender[position,1].astype(float))\n",
    "        percentaje = (genderTotal/grandTotal) * 100\n",
    "        \n",
    "        #Using the cicle for print for each  Gender\n",
    "        print(f\"{gender} - Total : {genderTotal:.2f} - Percentaje : {percentaje:.2f}%\")\n",
    "genderClean(df)"
   ]
  },
  {
   "cell_type": "code",
   "execution_count": 51,
   "id": "44be7e9d-b22e-441e-b166-97ac2a41cc68",
   "metadata": {},
   "outputs": [
    {
     "name": "stdout",
     "output_type": "stream",
     "text": [
      "Member - Total : 164223.44 - Percentaje : 50.85%\n",
      "Normal - Total : 158743.30 - Percentaje : 49.15%\n"
     ]
    }
   ],
   "source": [
    "def customerTypeTotal(df):\n",
    "    \n",
    "    #Obtaning the Customer Type and Total for each one into Array from the pandas\n",
    "    dataCustomerType = df[['Customer type', 'Total']].to_numpy()\n",
    "\n",
    "    #We checked the unique types of Customer that are in the Array, selection the 0 position because type customer is stored in that position\n",
    "    customerTypes = np.unique(dataCustomerType[:, 0])\n",
    "    \n",
    "    #We obtain the Grand total of all the Array\n",
    "    grandTotal = np.sum(dataCustomerType[:,1].astype(float))\n",
    "    \n",
    "    for customerType in customerTypes:\n",
    "    \n",
    "        #Using a mask for checking each customer Type with the Array position 0 of the custome types, making a boolean por the position and extracting the position\n",
    "        position = dataCustomerType[:,0] == customerType\n",
    "    \n",
    "        #Extrating the Total for each Type Customer even getting the % of it owns about the Total\n",
    "        customerTypeTotal = np.sum(dataCustomerType[position,1].astype(float))\n",
    "        percentaje = (customerTypeTotal/grandTotal) * 100\n",
    "        \n",
    "        #Using the cicle for print for each Customer Type\n",
    "        print(f\"{customerType} - Total : {customerTypeTotal:.2f} - Percentaje : {percentaje:.2f}%\")\n",
    "customerTypeTotal(df)"
   ]
  },
  {
   "cell_type": "code",
   "execution_count": 54,
   "id": "31487d09-16a7-43bf-9821-3712d7d8513b",
   "metadata": {},
   "outputs": [
    {
     "name": "stdout",
     "output_type": "stream",
     "text": [
      "Electronic accessories - Total : 54337.53 - Percentaje : 16.82%\n",
      "Fashion accessories - Total : 54305.90 - Percentaje : 16.81%\n",
      "Food and beverages - Total : 56144.84 - Percentaje : 17.38%\n",
      "Health and beauty - Total : 49193.74 - Percentaje : 15.23%\n",
      "Home and lifestyle - Total : 53861.91 - Percentaje : 16.68%\n",
      "Sports and travel - Total : 55122.83 - Percentaje : 17.07%\n"
     ]
    }
   ],
   "source": [
    "def productLineClean(df):\n",
    "    \n",
    "    #Obtaning the Product Line and total for each one into Array from the pandas\n",
    "    dataProductLine = df[['Product line', 'Total']].to_numpy()\n",
    "\n",
    "    #We checked the unique Product Line that are in the Array, selection the 0 position because Product Line is stored in that position\n",
    "    lineProducts = np.unique(dataProductLine[:, 0])\n",
    "    \n",
    "    #We obtain the Grand total of all the Array\n",
    "    grandTotal = np.sum(dataProductLine[:,1].astype(float))\n",
    "    \n",
    "    for lineProduct in lineProducts:\n",
    "    \n",
    "        #Using a mask for checking each Product Lines with the Array position 0 of the Product Lines, making a boolean por the position and extracting the position\n",
    "        position = dataProductLine[:,0] == lineProduct\n",
    "    \n",
    "        #Extrating the Total for each Product Line even getting the % of it owns about the Total\n",
    "        productoLineTotal = np.sum(dataProductLine[position,1].astype(float))\n",
    "        percentaje = (productoLineTotal/grandTotal) * 100\n",
    "        \n",
    "        #Using the cicle for print for each Product Line\n",
    "        print(f\"{lineProduct} - Total : {productoLineTotal:.2f} - Percentaje : {percentaje:.2f}%\")\n",
    "productLineClean(df)"
   ]
  },
  {
   "cell_type": "code",
   "execution_count": 55,
   "id": "2d04b52b-1f67-4c62-b1e1-938771d21920",
   "metadata": {},
   "outputs": [
    {
     "name": "stdout",
     "output_type": "stream",
     "text": [
      "Mandalay - Total : 106197.67 - Percentaje : 32.88%\n",
      "Naypyitaw - Total : 110568.71 - Percentaje : 34.24%\n",
      "Yangon - Total : 106200.37 - Percentaje : 32.88%\n"
     ]
    }
   ],
   "source": [
    "def citiesClean(df):\n",
    "    \n",
    "    #Obtaning the City and total for each one into Array from the pandas\n",
    "    dataCity = df[['City', 'Total']].to_numpy()\n",
    "\n",
    "    #We checked the unique City that are in the Array, selection the 0 position because City Line is stored in that position\n",
    "    cities = np.unique(dataCity[:, 0])\n",
    "    \n",
    "    #We obtain the Grand total of all the Array\n",
    "    grandTotal = np.sum(dataCity[:,1].astype(float))\n",
    "    \n",
    "    for city in cities:\n",
    "    \n",
    "        #Using a mask for checking each City with the Array position 0 of the Cities, making a boolean por the position and extracting the position\n",
    "        position = dataCity[:,0] == city\n",
    "    \n",
    "        #Extrating the Total for each Cities even getting the % of it owns about the Total\n",
    "        cityTotal = np.sum(dataCity[position,1].astype(float))\n",
    "        percentaje = (cityTotal/grandTotal) * 100\n",
    "        \n",
    "        #Using the cicle for print for each City\n",
    "        print(f\"{city} - Total : {cityTotal:.2f} - Percentaje : {percentaje:.2f}%\")\n",
    "citiesClean(df)"
   ]
  }
 ],
 "metadata": {
  "kernelspec": {
   "display_name": "Python 3 (ipykernel)",
   "language": "python",
   "name": "python3"
  },
  "language_info": {
   "codemirror_mode": {
    "name": "ipython",
    "version": 3
   },
   "file_extension": ".py",
   "mimetype": "text/x-python",
   "name": "python",
   "nbconvert_exporter": "python",
   "pygments_lexer": "ipython3",
   "version": "3.9.5"
  }
 },
 "nbformat": 4,
 "nbformat_minor": 5
}
